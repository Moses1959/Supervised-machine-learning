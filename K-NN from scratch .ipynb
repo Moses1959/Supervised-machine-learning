{
 "cells": [
  {
   "cell_type": "code",
   "execution_count": 119,
   "id": "75793937",
   "metadata": {},
   "outputs": [],
   "source": [
    "import csv\n",
    "import random\n",
    "import math\n",
    "import operator\n",
    "import matplotlib.pyplot as plt\n",
    "import numpy as np"
   ]
  },
  {
   "cell_type": "code",
   "execution_count": 104,
   "id": "3c8d2fef",
   "metadata": {},
   "outputs": [
    {
     "name": "stdout",
     "output_type": "stream",
     "text": [
      "5.1, 3.5, 1.4, 0.2, Iris-setosa\n",
      "4.9, 3.0, 1.4, 0.2, Iris-setosa\n",
      "4.7, 3.2, 1.3, 0.2, Iris-setosa\n",
      "4.6, 3.1, 1.5, 0.2, Iris-setosa\n",
      "5.0, 3.6, 1.4, 0.2, Iris-setosa\n",
      "5.4, 3.9, 1.7, 0.4, Iris-setosa\n",
      "4.6, 3.4, 1.4, 0.3, Iris-setosa\n",
      "5.0, 3.4, 1.5, 0.2, Iris-setosa\n",
      "4.4, 2.9, 1.4, 0.2, Iris-setosa\n",
      "4.9, 3.1, 1.5, 0.1, Iris-setosa\n",
      "5.4, 3.7, 1.5, 0.2, Iris-setosa\n",
      "4.8, 3.4, 1.6, 0.2, Iris-setosa\n",
      "4.8, 3.0, 1.4, 0.1, Iris-setosa\n",
      "4.3, 3.0, 1.1, 0.1, Iris-setosa\n",
      "5.8, 4.0, 1.2, 0.2, Iris-setosa\n",
      "5.7, 4.4, 1.5, 0.4, Iris-setosa\n",
      "5.4, 3.9, 1.3, 0.4, Iris-setosa\n",
      "5.1, 3.5, 1.4, 0.3, Iris-setosa\n",
      "5.7, 3.8, 1.7, 0.3, Iris-setosa\n",
      "5.1, 3.8, 1.5, 0.3, Iris-setosa\n",
      "5.4, 3.4, 1.7, 0.2, Iris-setosa\n",
      "5.1, 3.7, 1.5, 0.4, Iris-setosa\n",
      "4.6, 3.6, 1.0, 0.2, Iris-setosa\n",
      "5.1, 3.3, 1.7, 0.5, Iris-setosa\n",
      "4.8, 3.4, 1.9, 0.2, Iris-setosa\n",
      "5.0, 3.0, 1.6, 0.2, Iris-setosa\n",
      "5.0, 3.4, 1.6, 0.4, Iris-setosa\n",
      "5.2, 3.5, 1.5, 0.2, Iris-setosa\n",
      "5.2, 3.4, 1.4, 0.2, Iris-setosa\n",
      "4.7, 3.2, 1.6, 0.2, Iris-setosa\n",
      "4.8, 3.1, 1.6, 0.2, Iris-setosa\n",
      "5.4, 3.4, 1.5, 0.4, Iris-setosa\n",
      "5.2, 4.1, 1.5, 0.1, Iris-setosa\n",
      "5.5, 4.2, 1.4, 0.2, Iris-setosa\n",
      "4.9, 3.1, 1.5, 0.1, Iris-setosa\n",
      "5.0, 3.2, 1.2, 0.2, Iris-setosa\n",
      "5.5, 3.5, 1.3, 0.2, Iris-setosa\n",
      "4.9, 3.1, 1.5, 0.1, Iris-setosa\n",
      "4.4, 3.0, 1.3, 0.2, Iris-setosa\n",
      "5.1, 3.4, 1.5, 0.2, Iris-setosa\n",
      "5.0, 3.5, 1.3, 0.3, Iris-setosa\n",
      "4.5, 2.3, 1.3, 0.3, Iris-setosa\n",
      "4.4, 3.2, 1.3, 0.2, Iris-setosa\n",
      "5.0, 3.5, 1.6, 0.6, Iris-setosa\n",
      "5.1, 3.8, 1.9, 0.4, Iris-setosa\n",
      "4.8, 3.0, 1.4, 0.3, Iris-setosa\n",
      "5.1, 3.8, 1.6, 0.2, Iris-setosa\n",
      "4.6, 3.2, 1.4, 0.2, Iris-setosa\n",
      "5.3, 3.7, 1.5, 0.2, Iris-setosa\n",
      "5.0, 3.3, 1.4, 0.2, Iris-setosa\n",
      "7.0, 3.2, 4.7, 1.4, Iris-versicolor\n",
      "6.4, 3.2, 4.5, 1.5, Iris-versicolor\n",
      "6.9, 3.1, 4.9, 1.5, Iris-versicolor\n",
      "5.5, 2.3, 4.0, 1.3, Iris-versicolor\n",
      "6.5, 2.8, 4.6, 1.5, Iris-versicolor\n",
      "5.7, 2.8, 4.5, 1.3, Iris-versicolor\n",
      "6.3, 3.3, 4.7, 1.6, Iris-versicolor\n",
      "4.9, 2.4, 3.3, 1.0, Iris-versicolor\n",
      "6.6, 2.9, 4.6, 1.3, Iris-versicolor\n",
      "5.2, 2.7, 3.9, 1.4, Iris-versicolor\n",
      "5.0, 2.0, 3.5, 1.0, Iris-versicolor\n",
      "5.9, 3.0, 4.2, 1.5, Iris-versicolor\n",
      "6.0, 2.2, 4.0, 1.0, Iris-versicolor\n",
      "6.1, 2.9, 4.7, 1.4, Iris-versicolor\n",
      "5.6, 2.9, 3.6, 1.3, Iris-versicolor\n",
      "6.7, 3.1, 4.4, 1.4, Iris-versicolor\n",
      "5.6, 3.0, 4.5, 1.5, Iris-versicolor\n",
      "5.8, 2.7, 4.1, 1.0, Iris-versicolor\n",
      "6.2, 2.2, 4.5, 1.5, Iris-versicolor\n",
      "5.6, 2.5, 3.9, 1.1, Iris-versicolor\n",
      "5.9, 3.2, 4.8, 1.8, Iris-versicolor\n",
      "6.1, 2.8, 4.0, 1.3, Iris-versicolor\n",
      "6.3, 2.5, 4.9, 1.5, Iris-versicolor\n",
      "6.1, 2.8, 4.7, 1.2, Iris-versicolor\n",
      "6.4, 2.9, 4.3, 1.3, Iris-versicolor\n",
      "6.6, 3.0, 4.4, 1.4, Iris-versicolor\n",
      "6.8, 2.8, 4.8, 1.4, Iris-versicolor\n",
      "6.7, 3.0, 5.0, 1.7, Iris-versicolor\n",
      "6.0, 2.9, 4.5, 1.5, Iris-versicolor\n",
      "5.7, 2.6, 3.5, 1.0, Iris-versicolor\n",
      "5.5, 2.4, 3.8, 1.1, Iris-versicolor\n",
      "5.5, 2.4, 3.7, 1.0, Iris-versicolor\n",
      "5.8, 2.7, 3.9, 1.2, Iris-versicolor\n",
      "6.0, 2.7, 5.1, 1.6, Iris-versicolor\n",
      "5.4, 3.0, 4.5, 1.5, Iris-versicolor\n",
      "6.0, 3.4, 4.5, 1.6, Iris-versicolor\n",
      "6.7, 3.1, 4.7, 1.5, Iris-versicolor\n",
      "6.3, 2.3, 4.4, 1.3, Iris-versicolor\n",
      "5.6, 3.0, 4.1, 1.3, Iris-versicolor\n",
      "5.5, 2.5, 4.0, 1.3, Iris-versicolor\n",
      "5.5, 2.6, 4.4, 1.2, Iris-versicolor\n",
      "6.1, 3.0, 4.6, 1.4, Iris-versicolor\n",
      "5.8, 2.6, 4.0, 1.2, Iris-versicolor\n",
      "5.0, 2.3, 3.3, 1.0, Iris-versicolor\n",
      "5.6, 2.7, 4.2, 1.3, Iris-versicolor\n",
      "5.7, 3.0, 4.2, 1.2, Iris-versicolor\n",
      "5.7, 2.9, 4.2, 1.3, Iris-versicolor\n",
      "6.2, 2.9, 4.3, 1.3, Iris-versicolor\n",
      "5.1, 2.5, 3.0, 1.1, Iris-versicolor\n",
      "5.7, 2.8, 4.1, 1.3, Iris-versicolor\n",
      "6.3, 3.3, 6.0, 2.5, Iris-virginica\n",
      "5.8, 2.7, 5.1, 1.9, Iris-virginica\n",
      "7.1, 3.0, 5.9, 2.1, Iris-virginica\n",
      "6.3, 2.9, 5.6, 1.8, Iris-virginica\n",
      "6.5, 3.0, 5.8, 2.2, Iris-virginica\n",
      "7.6, 3.0, 6.6, 2.1, Iris-virginica\n",
      "4.9, 2.5, 4.5, 1.7, Iris-virginica\n",
      "7.3, 2.9, 6.3, 1.8, Iris-virginica\n",
      "6.7, 2.5, 5.8, 1.8, Iris-virginica\n",
      "7.2, 3.6, 6.1, 2.5, Iris-virginica\n",
      "6.5, 3.2, 5.1, 2.0, Iris-virginica\n",
      "6.4, 2.7, 5.3, 1.9, Iris-virginica\n",
      "6.8, 3.0, 5.5, 2.1, Iris-virginica\n",
      "5.7, 2.5, 5.0, 2.0, Iris-virginica\n",
      "5.8, 2.8, 5.1, 2.4, Iris-virginica\n",
      "6.4, 3.2, 5.3, 2.3, Iris-virginica\n",
      "6.5, 3.0, 5.5, 1.8, Iris-virginica\n",
      "7.7, 3.8, 6.7, 2.2, Iris-virginica\n",
      "7.7, 2.6, 6.9, 2.3, Iris-virginica\n",
      "6.0, 2.2, 5.0, 1.5, Iris-virginica\n",
      "6.9, 3.2, 5.7, 2.3, Iris-virginica\n",
      "5.6, 2.8, 4.9, 2.0, Iris-virginica\n",
      "7.7, 2.8, 6.7, 2.0, Iris-virginica\n",
      "6.3, 2.7, 4.9, 1.8, Iris-virginica\n",
      "6.7, 3.3, 5.7, 2.1, Iris-virginica\n",
      "7.2, 3.2, 6.0, 1.8, Iris-virginica\n",
      "6.2, 2.8, 4.8, 1.8, Iris-virginica\n",
      "6.1, 3.0, 4.9, 1.8, Iris-virginica\n",
      "6.4, 2.8, 5.6, 2.1, Iris-virginica\n",
      "7.2, 3.0, 5.8, 1.6, Iris-virginica\n",
      "7.4, 2.8, 6.1, 1.9, Iris-virginica\n",
      "7.9, 3.8, 6.4, 2.0, Iris-virginica\n",
      "6.4, 2.8, 5.6, 2.2, Iris-virginica\n",
      "6.3, 2.8, 5.1, 1.5, Iris-virginica\n",
      "6.1, 2.6, 5.6, 1.4, Iris-virginica\n",
      "7.7, 3.0, 6.1, 2.3, Iris-virginica\n",
      "6.3, 3.4, 5.6, 2.4, Iris-virginica\n",
      "6.4, 3.1, 5.5, 1.8, Iris-virginica\n",
      "6.0, 3.0, 4.8, 1.8, Iris-virginica\n",
      "6.9, 3.1, 5.4, 2.1, Iris-virginica\n",
      "6.7, 3.1, 5.6, 2.4, Iris-virginica\n",
      "6.9, 3.1, 5.1, 2.3, Iris-virginica\n",
      "5.8, 2.7, 5.1, 1.9, Iris-virginica\n",
      "6.8, 3.2, 5.9, 2.3, Iris-virginica\n",
      "6.7, 3.3, 5.7, 2.5, Iris-virginica\n",
      "6.7, 3.0, 5.2, 2.3, Iris-virginica\n",
      "6.3, 2.5, 5.0, 1.9, Iris-virginica\n",
      "6.5, 3.0, 5.2, 2.0, Iris-virginica\n",
      "6.2, 3.4, 5.4, 2.3, Iris-virginica\n",
      "5.9, 3.0, 5.1, 1.8, Iris-virginica\n"
     ]
    }
   ],
   "source": [
    "with open('iris.data.txt', 'r') as csvfile:\n",
    "\n",
    "    lines = csv.reader(csvfile)\n",
    "\n",
    "    for row in lines :\n",
    "\n",
    "        print (', '.join(row))"
   ]
  },
  {
   "cell_type": "markdown",
   "id": "ea5ce0a8",
   "metadata": {},
   "source": [
    "Splitting the data"
   ]
  },
  {
   "cell_type": "code",
   "execution_count": 105,
   "id": "f1f046cd",
   "metadata": {},
   "outputs": [],
   "source": [
    "def loadDataset(filename, split, trainingSet=[] , testSet=[]):\n",
    "\n",
    "    with open(filename, 'r') as csvfile:\n",
    "\n",
    "        lines = csv.reader(csvfile)\n",
    "\n",
    "        dataset = list(lines)\n",
    "        random.seed(0)\n",
    "        random.shuffle(dataset)\n",
    "\n",
    "        for x in range(len(dataset)):\n",
    "\n",
    "            for y in range(4):\n",
    "\n",
    "                dataset[x][y] = float(dataset[x][y])\n",
    "\n",
    "    indx= int(len(dataset)*split)\n",
    "    trainingSet= dataset[:indx]\n",
    "    testSet=dataset[indx:]\n",
    "    return trainingSet , testSet"
   ]
  },
  {
   "cell_type": "code",
   "execution_count": 106,
   "id": "bf0d91ea",
   "metadata": {},
   "outputs": [
    {
     "name": "stdout",
     "output_type": "stream",
     "text": [
      "Train: 0\n",
      "Test: 0\n",
      "([[5.2, 3.5, 1.5, 0.2, 'Iris-setosa'], [7.0, 3.2, 4.7, 1.4, 'Iris-versicolor'], [5.5, 2.3, 4.0, 1.3, 'Iris-versicolor'], [6.3, 2.7, 4.9, 1.8, 'Iris-virginica'], [5.7, 3.0, 4.2, 1.2, 'Iris-versicolor'], [5.8, 4.0, 1.2, 0.2, 'Iris-setosa'], [6.2, 2.2, 4.5, 1.5, 'Iris-versicolor'], [7.7, 3.0, 6.1, 2.3, 'Iris-virginica'], [6.0, 2.2, 5.0, 1.5, 'Iris-virginica'], [4.7, 3.2, 1.6, 0.2, 'Iris-setosa'], [4.6, 3.2, 1.4, 0.2, 'Iris-setosa'], [6.7, 2.5, 5.8, 1.8, 'Iris-virginica'], [5.1, 3.7, 1.5, 0.4, 'Iris-setosa'], [5.9, 3.0, 5.1, 1.8, 'Iris-virginica'], [5.1, 3.3, 1.7, 0.5, 'Iris-setosa'], [6.7, 3.1, 5.6, 2.4, 'Iris-virginica'], [7.1, 3.0, 5.9, 2.1, 'Iris-virginica'], [5.2, 2.7, 3.9, 1.4, 'Iris-versicolor'], [5.2, 4.1, 1.5, 0.1, 'Iris-setosa'], [6.7, 3.3, 5.7, 2.5, 'Iris-virginica'], [5.7, 2.5, 5.0, 2.0, 'Iris-virginica'], [5.8, 2.8, 5.1, 2.4, 'Iris-virginica'], [6.4, 2.7, 5.3, 1.9, 'Iris-virginica'], [4.6, 3.4, 1.4, 0.3, 'Iris-setosa'], [6.5, 2.8, 4.6, 1.5, 'Iris-versicolor'], [5.4, 3.4, 1.7, 0.2, 'Iris-setosa'], [6.3, 2.3, 4.4, 1.3, 'Iris-versicolor'], [5.7, 2.8, 4.1, 1.3, 'Iris-versicolor'], [4.6, 3.1, 1.5, 0.2, 'Iris-setosa'], [5.1, 3.8, 1.5, 0.3, 'Iris-setosa'], [6.0, 2.7, 5.1, 1.6, 'Iris-versicolor'], [5.1, 3.8, 1.6, 0.2, 'Iris-setosa'], [4.6, 3.6, 1.0, 0.2, 'Iris-setosa'], [5.7, 2.9, 4.2, 1.3, 'Iris-versicolor'], [5.5, 2.5, 4.0, 1.3, 'Iris-versicolor'], [6.1, 3.0, 4.9, 1.8, 'Iris-virginica'], [6.2, 2.8, 4.8, 1.8, 'Iris-virginica'], [7.9, 3.8, 6.4, 2.0, 'Iris-virginica'], [6.6, 3.0, 4.4, 1.4, 'Iris-versicolor'], [5.6, 2.7, 4.2, 1.3, 'Iris-versicolor'], [5.1, 3.5, 1.4, 0.3, 'Iris-setosa'], [6.8, 3.0, 5.5, 2.1, 'Iris-virginica'], [6.7, 3.0, 5.2, 2.3, 'Iris-virginica'], [7.6, 3.0, 6.6, 2.1, 'Iris-virginica'], [4.9, 3.1, 1.5, 0.1, 'Iris-setosa'], [5.1, 3.8, 1.9, 0.4, 'Iris-setosa'], [5.0, 2.0, 3.5, 1.0, 'Iris-versicolor'], [6.6, 2.9, 4.6, 1.3, 'Iris-versicolor'], [4.9, 3.1, 1.5, 0.1, 'Iris-setosa'], [4.9, 2.5, 4.5, 1.7, 'Iris-virginica'], [5.3, 3.7, 1.5, 0.2, 'Iris-setosa'], [5.0, 3.5, 1.6, 0.6, 'Iris-setosa'], [5.4, 3.9, 1.7, 0.4, 'Iris-setosa'], [5.0, 3.6, 1.4, 0.2, 'Iris-setosa'], [6.3, 2.8, 5.1, 1.5, 'Iris-virginica'], [5.4, 3.9, 1.3, 0.4, 'Iris-setosa'], [6.1, 2.8, 4.7, 1.2, 'Iris-versicolor'], [5.1, 3.4, 1.5, 0.2, 'Iris-setosa'], [4.7, 3.2, 1.3, 0.2, 'Iris-setosa'], [5.8, 2.7, 5.1, 1.9, 'Iris-virginica'], [6.9, 3.1, 4.9, 1.5, 'Iris-versicolor'], [7.2, 3.2, 6.0, 1.8, 'Iris-virginica'], [5.8, 2.7, 4.1, 1.0, 'Iris-versicolor'], [6.8, 2.8, 4.8, 1.4, 'Iris-versicolor'], [5.6, 3.0, 4.1, 1.3, 'Iris-versicolor'], [5.8, 2.7, 3.9, 1.2, 'Iris-versicolor'], [5.0, 3.3, 1.4, 0.2, 'Iris-setosa'], [6.4, 2.8, 5.6, 2.1, 'Iris-virginica'], [6.4, 3.2, 5.3, 2.3, 'Iris-virginica'], [5.5, 3.5, 1.3, 0.2, 'Iris-setosa'], [6.4, 2.9, 4.3, 1.3, 'Iris-versicolor'], [7.7, 2.6, 6.9, 2.3, 'Iris-virginica'], [6.7, 3.1, 4.7, 1.5, 'Iris-versicolor'], [6.2, 2.9, 4.3, 1.3, 'Iris-versicolor'], [5.8, 2.7, 5.1, 1.9, 'Iris-virginica'], [5.7, 4.4, 1.5, 0.4, 'Iris-setosa'], [6.4, 2.8, 5.6, 2.2, 'Iris-virginica'], [7.2, 3.6, 6.1, 2.5, 'Iris-virginica'], [4.4, 3.0, 1.3, 0.2, 'Iris-setosa'], [4.3, 3.0, 1.1, 0.1, 'Iris-setosa'], [6.0, 2.2, 4.0, 1.0, 'Iris-versicolor'], [6.7, 3.1, 4.4, 1.4, 'Iris-versicolor'], [6.9, 3.1, 5.1, 2.3, 'Iris-virginica'], [6.5, 3.0, 5.2, 2.0, 'Iris-virginica'], [6.2, 3.4, 5.4, 2.3, 'Iris-virginica'], [4.9, 2.4, 3.3, 1.0, 'Iris-versicolor'], [5.6, 2.5, 3.9, 1.1, 'Iris-versicolor'], [6.0, 3.0, 4.8, 1.8, 'Iris-virginica'], [4.8, 3.1, 1.6, 0.2, 'Iris-setosa'], [5.2, 3.4, 1.4, 0.2, 'Iris-setosa'], [6.3, 3.4, 5.6, 2.4, 'Iris-virginica'], [6.1, 2.6, 5.6, 1.4, 'Iris-virginica'], [4.4, 2.9, 1.4, 0.2, 'Iris-setosa'], [6.5, 3.0, 5.8, 2.2, 'Iris-virginica'], [4.5, 2.3, 1.3, 0.3, 'Iris-setosa'], [5.0, 2.3, 3.3, 1.0, 'Iris-versicolor'], [5.4, 3.4, 1.5, 0.4, 'Iris-setosa'], [4.4, 3.2, 1.3, 0.2, 'Iris-setosa'], [6.1, 2.9, 4.7, 1.4, 'Iris-versicolor']], [[5.6, 2.8, 4.9, 2.0, 'Iris-virginica'], [5.1, 3.5, 1.4, 0.2, 'Iris-setosa'], [5.5, 2.4, 3.8, 1.1, 'Iris-versicolor'], [6.0, 3.4, 4.5, 1.6, 'Iris-versicolor'], [6.3, 3.3, 6.0, 2.5, 'Iris-virginica'], [5.5, 2.6, 4.4, 1.2, 'Iris-versicolor'], [6.4, 3.2, 4.5, 1.5, 'Iris-versicolor'], [5.8, 2.6, 4.0, 1.2, 'Iris-versicolor'], [4.8, 3.4, 1.6, 0.2, 'Iris-setosa'], [4.9, 3.0, 1.4, 0.2, 'Iris-setosa'], [7.7, 3.8, 6.7, 2.2, 'Iris-virginica'], [6.8, 3.2, 5.9, 2.3, 'Iris-virginica'], [5.0, 3.4, 1.5, 0.2, 'Iris-setosa'], [5.5, 4.2, 1.4, 0.2, 'Iris-setosa'], [6.3, 2.5, 5.0, 1.9, 'Iris-virginica'], [6.5, 3.2, 5.1, 2.0, 'Iris-virginica'], [6.3, 3.3, 4.7, 1.6, 'Iris-versicolor'], [5.9, 3.0, 4.2, 1.5, 'Iris-versicolor'], [5.9, 3.2, 4.8, 1.8, 'Iris-versicolor'], [5.0, 3.4, 1.6, 0.4, 'Iris-setosa'], [6.5, 3.0, 5.5, 1.8, 'Iris-virginica'], [5.5, 2.4, 3.7, 1.0, 'Iris-versicolor'], [6.0, 2.9, 4.5, 1.5, 'Iris-versicolor'], [5.0, 3.5, 1.3, 0.3, 'Iris-setosa'], [6.9, 3.1, 5.4, 2.1, 'Iris-virginica'], [4.8, 3.0, 1.4, 0.3, 'Iris-setosa'], [4.8, 3.0, 1.4, 0.1, 'Iris-setosa'], [6.1, 2.8, 4.0, 1.3, 'Iris-versicolor'], [6.9, 3.2, 5.7, 2.3, 'Iris-virginica'], [5.4, 3.0, 4.5, 1.5, 'Iris-versicolor'], [5.7, 3.8, 1.7, 0.3, 'Iris-setosa'], [5.0, 3.0, 1.6, 0.2, 'Iris-setosa'], [5.7, 2.6, 3.5, 1.0, 'Iris-versicolor'], [4.9, 3.1, 1.5, 0.1, 'Iris-setosa'], [5.6, 2.9, 3.6, 1.3, 'Iris-versicolor'], [4.8, 3.4, 1.9, 0.2, 'Iris-setosa'], [6.4, 3.1, 5.5, 1.8, 'Iris-virginica'], [6.3, 2.5, 4.9, 1.5, 'Iris-versicolor'], [5.0, 3.2, 1.2, 0.2, 'Iris-setosa'], [7.2, 3.0, 5.8, 1.6, 'Iris-virginica'], [5.7, 2.8, 4.5, 1.3, 'Iris-versicolor'], [6.1, 3.0, 4.6, 1.4, 'Iris-versicolor'], [7.7, 2.8, 6.7, 2.0, 'Iris-virginica'], [6.7, 3.0, 5.0, 1.7, 'Iris-versicolor'], [6.3, 2.9, 5.6, 1.8, 'Iris-virginica'], [6.7, 3.3, 5.7, 2.1, 'Iris-virginica'], [7.4, 2.8, 6.1, 1.9, 'Iris-virginica'], [5.6, 3.0, 4.5, 1.5, 'Iris-versicolor'], [5.4, 3.7, 1.5, 0.2, 'Iris-setosa'], [7.3, 2.9, 6.3, 1.8, 'Iris-virginica'], [5.1, 2.5, 3.0, 1.1, 'Iris-versicolor']])\n"
     ]
    }
   ],
   "source": [
    "trainingSet=[]\n",
    "\n",
    "testSet=[]\n",
    "\n",
    "k=loadDataset('iris.data.txt', 0.66, trainingSet, testSet)\n",
    "\n",
    "print ('Train: ' + repr(len(trainingSet)))\n",
    "\n",
    "print ('Test: ' + repr(len(testSet)) )\n",
    "print(k)"
   ]
  },
  {
   "cell_type": "markdown",
   "id": "f5328101",
   "metadata": {},
   "source": [
    "Distance function : Similarity"
   ]
  },
  {
   "cell_type": "code",
   "execution_count": 107,
   "id": "589ced03",
   "metadata": {},
   "outputs": [],
   "source": [
    "def euclideanDistance(instance1, instance2, length):\n",
    "    difference_squared = 0\n",
    "    for x in range(length):\n",
    "        difference_squared += pow((instance1[x] - instance2[x]), 2)\n",
    "    return math.sqrt(difference_squared)"
   ]
  },
  {
   "cell_type": "code",
   "execution_count": 108,
   "id": "cc363816",
   "metadata": {},
   "outputs": [
    {
     "name": "stdout",
     "output_type": "stream",
     "text": [
      "Distance: 3.4641016151377544\n"
     ]
    }
   ],
   "source": [
    "data1 = [2, 2, 2, 'a']\n",
    "\n",
    "data2 = [4, 4, 4, 'b']\n",
    "\n",
    "distance = euclideanDistance(data1, data2, 3)\n",
    "\n",
    "print ('Distance: ' + repr(distance))"
   ]
  },
  {
   "cell_type": "markdown",
   "id": "91f137e1",
   "metadata": {},
   "source": [
    "Neighbors :"
   ]
  },
  {
   "cell_type": "code",
   "execution_count": 109,
   "id": "8da55306",
   "metadata": {},
   "outputs": [],
   "source": [
    "def getNeighbors(trainingSet, testInstance, k):\n",
    "\n",
    "    distances = []\n",
    "\n",
    "    length = len(testInstance)-1\n",
    "    #print(\"length\", length)\n",
    "    for x in range(len(trainingSet)):\n",
    "\n",
    "        dist = euclideanDistance(testInstance, trainingSet[x], length)\n",
    "        #print(\"dist\",dist)\n",
    "        distances.append((trainingSet[x], dist))\n",
    "    #print(\"distance without sort\",distances)   \n",
    " # itemgetter : dans ce cas, elle permet d'ordonner les keys avec le premier element (dist)\n",
    "    distances.sort(key=operator.itemgetter(1))\n",
    "    #print(\"distance with sort\",distances)   \n",
    "\n",
    "\n",
    "    neighbors = []\n",
    "\n",
    "    for x in range(k):\n",
    "\n",
    "      neighbors.append(distances[x][0])\n",
    "\n",
    "    return neighbors\n",
    "    \n",
    "\n"
   ]
  },
  {
   "cell_type": "code",
   "execution_count": 110,
   "id": "18a2558e",
   "metadata": {},
   "outputs": [
    {
     "name": "stdout",
     "output_type": "stream",
     "text": [
      "[[4, 4, 4, 'b']]\n"
     ]
    }
   ],
   "source": [
    "trainSet = [[2, 2, 2, 'a'], [4, 4, 4, 'b']]\n",
    "\n",
    "testInstance = [5, 5, 5]\n",
    "\n",
    "k = 1\n",
    "\n",
    "neighbors = getNeighbors(trainSet, testInstance, 1)\n",
    "\n",
    "print(neighbors)"
   ]
  },
  {
   "cell_type": "markdown",
   "id": "80a5be45",
   "metadata": {},
   "source": [
    "Response:"
   ]
  },
  {
   "cell_type": "code",
   "execution_count": 111,
   "id": "8a5cdcdb",
   "metadata": {},
   "outputs": [],
   "source": [
    "def getResponse(neighbors):\n",
    "\n",
    "    classVotes = {}\n",
    "\n",
    "    for x in range(len(neighbors)):\n",
    "\n",
    "        response = neighbors[x][ -1 ] #complete with appropriate number\n",
    "        classVotes.setdefault(response,0)\n",
    "\n",
    "        if response in classVotes.keys():\n",
    "\n",
    "            classVotes[response]+=1\n",
    "\n",
    "    sortedVotes = sorted(classVotes.items(), key=operator.itemgetter(1), reverse=True)\n",
    "\n",
    "    return sortedVotes[0][0]"
   ]
  },
  {
   "cell_type": "code",
   "execution_count": 112,
   "id": "6283a923",
   "metadata": {},
   "outputs": [
    {
     "name": "stdout",
     "output_type": "stream",
     "text": [
      "a\n"
     ]
    }
   ],
   "source": [
    "neighbors = [[1,1,1,'a'], [2,2,2,'a'], [3,3,3,'b']]\n",
    "\n",
    "response = getResponse(neighbors)\n",
    "\n",
    "print(response)"
   ]
  },
  {
   "cell_type": "markdown",
   "id": "db15ebb5",
   "metadata": {},
   "source": [
    "Accuracy:"
   ]
  },
  {
   "cell_type": "code",
   "execution_count": 113,
   "id": "2993e029",
   "metadata": {},
   "outputs": [],
   "source": [
    "def getAccuracy(testSet, predictions):\n",
    "    correct=0\n",
    "    for x in range(len(testSet)):\n",
    "        \n",
    "        if(testSet[x][-1]==predictions[x]):\n",
    "            correct+=1\n",
    "        \n",
    "\n",
    "\n",
    "\n",
    "    return (correct/len(testSet)) * 100.0"
   ]
  },
  {
   "cell_type": "code",
   "execution_count": 114,
   "id": "91b26ca2",
   "metadata": {},
   "outputs": [
    {
     "name": "stdout",
     "output_type": "stream",
     "text": [
      "66.66666666666666\n"
     ]
    }
   ],
   "source": [
    "testSet = [[1,1,1,'a'], [2,2,2,'a'], [3,3,3,'b']]\n",
    "\n",
    "predictions = ['a', 'a', 'a']\n",
    "\n",
    "accuracy = getAccuracy(testSet, predictions)\n",
    "\n",
    "print(accuracy)"
   ]
  },
  {
   "cell_type": "markdown",
   "id": "195c6d29",
   "metadata": {},
   "source": [
    "Main:"
   ]
  },
  {
   "cell_type": "code",
   "execution_count": 115,
   "id": "8f1b91fb",
   "metadata": {},
   "outputs": [],
   "source": [
    "def main(dataset_filename, k, split, distanceFunc):\n",
    "    \n",
    "    trainingSet, testSet=loadDataset(dataset_filename, split)\n",
    "    \n",
    "    predictions = []\n",
    "    for testInstance in testSet:\n",
    "        neighbors = getNeighbors(trainingSet, testInstance[:-1], k)\n",
    "        response = getResponse(neighbors)\n",
    "        predictions.append(response)\n",
    "        \n",
    "    accuracy = getAccuracy(testSet, predictions)\n",
    "    print(\"Accuracy = %.2f\" % accuracy)\n",
    "    return accuracy"
   ]
  },
  {
   "cell_type": "code",
   "execution_count": 116,
   "id": "5733cd05",
   "metadata": {},
   "outputs": [
    {
     "name": "stdout",
     "output_type": "stream",
     "text": [
      "Accuracy = 90.20\n",
      "Accuracy = 90.20\n",
      "Accuracy = 90.20\n",
      "Accuracy = 90.20\n",
      "Accuracy = 92.16\n",
      "Accuracy = 94.12\n",
      "Accuracy = 96.08\n",
      "Accuracy = 94.12\n",
      "Accuracy = 96.08\n",
      "Accuracy = 94.12\n",
      "Accuracy = 98.04\n",
      "Accuracy = 94.12\n",
      "Accuracy = 94.12\n",
      "Accuracy = 94.12\n",
      "Accuracy = 94.12\n",
      "Accuracy = 94.12\n",
      "Accuracy = 94.12\n",
      "Accuracy = 94.12\n",
      "Accuracy = 94.12\n",
      "Accuracy = 94.12\n",
      "Accuracy = 94.12\n",
      "Accuracy = 94.12\n",
      "Accuracy = 94.12\n",
      "Accuracy = 94.12\n",
      "Accuracy = 94.12\n",
      "Accuracy = 94.12\n",
      "Accuracy = 96.08\n",
      "Accuracy = 92.16\n",
      "Accuracy = 94.12\n",
      "Accuracy = 94.12\n"
     ]
    }
   ],
   "source": [
    "scores=[]\n",
    "for k in range(1,31):\n",
    "    accuracy=main(\"iris.data.txt\", k, 0.66, euclideanDistance)\n",
    "    scores.append(accuracy)"
   ]
  },
  {
   "cell_type": "code",
   "execution_count": 117,
   "id": "9f594299",
   "metadata": {},
   "outputs": [
    {
     "data": {
      "text/plain": [
       "[<matplotlib.lines.Line2D at 0x21559ff3f10>]"
      ]
     },
     "execution_count": 117,
     "metadata": {},
     "output_type": "execute_result"
    },
    {
     "data": {
      "image/png": "[encoded data removed]",
      "text/plain": [
       "<Figure size 432x288 with 1 Axes>"
      ]
     },
     "metadata": {
      "needs_background": "light"
     },
     "output_type": "display_data"
    }
   ],
   "source": [
    "plt.plot(range(1,31),scores)"
   ]
  },
  {
   "cell_type": "markdown",
   "id": "104b9d60",
   "metadata": {},
   "source": [
    "Another distance metric:"
   ]
  },
  {
   "cell_type": "code",
   "execution_count": 120,
   "id": "96331bc2",
   "metadata": {},
   "outputs": [
    {
     "name": "stdout",
     "output_type": "stream",
     "text": [
      "the best Accuracy is 98.0392156862745\n",
      "best k is : 11\n"
     ]
    }
   ],
   "source": [
    "print(\"the best Accuracy is\",np.max(scores))\n",
    "print(\"best k is :\", np.argmax(scores)+1)"
   ]
  },
  {
   "cell_type": "code",
   "execution_count": 121,
   "id": "7336117e",
   "metadata": {},
   "outputs": [],
   "source": [
    "def manhattanDistance(instance1, instance2, length):\n",
    "    #   Complete the function\n",
    "    distance = 0\n",
    "    for i in range(length):\n",
    "        distance += abs(instance2[i]-instance1[i])\n",
    "\n",
    "    return distance\n",
    "\n",
    "def minkowskiDistance(instance1, instance2, length,degree=2):\n",
    "    difference_squared = 0\n",
    "    for x in range(length):\n",
    "        difference_squared += pow((instance1[x] - instance2[x]), degree)\n",
    "    return pow(difference_squared,1/degree)"
   ]
  },
  {
   "cell_type": "markdown",
   "id": "f5e5dcca",
   "metadata": {},
   "source": [
    "Manhattan distance :"
   ]
  },
  {
   "cell_type": "code",
   "execution_count": 122,
   "id": "b89073aa",
   "metadata": {},
   "outputs": [
    {
     "name": "stdout",
     "output_type": "stream",
     "text": [
      "Accuracy = 90.20\n",
      "Accuracy = 90.20\n",
      "Accuracy = 90.20\n",
      "Accuracy = 90.20\n",
      "Accuracy = 92.16\n",
      "Accuracy = 94.12\n",
      "Accuracy = 96.08\n",
      "Accuracy = 94.12\n",
      "Accuracy = 96.08\n",
      "Accuracy = 94.12\n",
      "Accuracy = 98.04\n",
      "Accuracy = 94.12\n",
      "Accuracy = 94.12\n",
      "Accuracy = 94.12\n",
      "Accuracy = 94.12\n",
      "Accuracy = 94.12\n",
      "Accuracy = 94.12\n",
      "Accuracy = 94.12\n",
      "Accuracy = 94.12\n",
      "Accuracy = 94.12\n",
      "Accuracy = 94.12\n",
      "Accuracy = 94.12\n",
      "Accuracy = 94.12\n",
      "Accuracy = 94.12\n",
      "Accuracy = 94.12\n",
      "Accuracy = 94.12\n",
      "Accuracy = 96.08\n",
      "Accuracy = 92.16\n",
      "Accuracy = 94.12\n",
      "Accuracy = 94.12\n"
     ]
    }
   ],
   "source": [
    "scores=[]\n",
    "for k in range(1,31):\n",
    "    accuracy=main(\"iris.data.txt\", k, 0.66, manhattanDistance)\n",
    "    scores.append(accuracy)"
   ]
  },
  {
   "cell_type": "code",
   "execution_count": 123,
   "id": "26228a81",
   "metadata": {},
   "outputs": [
    {
     "data": {
      "text/plain": [
       "[<matplotlib.lines.Line2D at 0x2155a7b2250>]"
      ]
     },
     "execution_count": 123,
     "metadata": {},
     "output_type": "execute_result"
    },
    {
     "data": {
      "image/png": "[encoded data removed]",
      "text/plain": [
       "<Figure size 432x288 with 1 Axes>"
      ]
     },
     "metadata": {
      "needs_background": "light"
     },
     "output_type": "display_data"
    }
   ],
   "source": [
    "plt.plot(range(1,31),scores)"
   ]
  },
  {
   "cell_type": "markdown",
   "id": "7ee9e250",
   "metadata": {},
   "source": [
    "Minkowski distance :"
   ]
  },
  {
   "cell_type": "code",
   "execution_count": 124,
   "id": "f2cfbda8",
   "metadata": {},
   "outputs": [
    {
     "name": "stdout",
     "output_type": "stream",
     "text": [
      "Accuracy = 90.20\n",
      "Accuracy = 90.20\n",
      "Accuracy = 90.20\n",
      "Accuracy = 90.20\n",
      "Accuracy = 92.16\n",
      "Accuracy = 94.12\n",
      "Accuracy = 96.08\n",
      "Accuracy = 94.12\n",
      "Accuracy = 96.08\n",
      "Accuracy = 94.12\n",
      "Accuracy = 98.04\n",
      "Accuracy = 94.12\n",
      "Accuracy = 94.12\n",
      "Accuracy = 94.12\n",
      "Accuracy = 94.12\n",
      "Accuracy = 94.12\n",
      "Accuracy = 94.12\n",
      "Accuracy = 94.12\n",
      "Accuracy = 94.12\n",
      "Accuracy = 94.12\n",
      "Accuracy = 94.12\n",
      "Accuracy = 94.12\n",
      "Accuracy = 94.12\n",
      "Accuracy = 94.12\n",
      "Accuracy = 94.12\n",
      "Accuracy = 94.12\n",
      "Accuracy = 96.08\n",
      "Accuracy = 92.16\n",
      "Accuracy = 94.12\n",
      "Accuracy = 94.12\n"
     ]
    }
   ],
   "source": [
    "scores=[]\n",
    "for k in range(1,31):\n",
    "    accuracy=main(\"iris.data.txt\", k, 0.66, minkowskiDistance)\n",
    "    scores.append(accuracy)"
   ]
  },
  {
   "cell_type": "code",
   "execution_count": 125,
   "id": "ca3bb872",
   "metadata": {},
   "outputs": [
    {
     "data": {
      "text/plain": [
       "[<matplotlib.lines.Line2D at 0x2155a8059d0>]"
      ]
     },
     "execution_count": 125,
     "metadata": {},
     "output_type": "execute_result"
    },
    {
     "data": {
      "image/png": "[encoded data removed]",
      "text/plain": [
       "<Figure size 432x288 with 1 Axes>"
      ]
     },
     "metadata": {
      "needs_background": "light"
     },
     "output_type": "display_data"
    }
   ],
   "source": [
    "plt.plot(range(1,31),scores)"
   ]
  },
  {
   "cell_type": "markdown",
   "id": "8572fff4",
   "metadata": {},
   "source": [
    "Euclidean and Minkowski ditances gave the best accuracies (98,03) with the same value of k=11"
   ]
  },
  {
   "cell_type": "code",
   "execution_count": null,
   "id": "e7427065",
   "metadata": {},
   "outputs": [],
   "source": []
  }
 ],
 "metadata": {
  "kernelspec": {
   "display_name": "Python 3 (ipykernel)",
   "language": "python",
   "name": "python3"
  },
  "language_info": {
   "codemirror_mode": {
    "name": "ipython",
    "version": 3
   },
   "file_extension": ".py",
   "mimetype": "text/x-python",
   "name": "python",
   "nbconvert_exporter": "python",
   "pygments_lexer": "ipython3",
   "version": "3.9.12"
  }
 },
 "nbformat": 4,
 "nbformat_minor": 5
}
